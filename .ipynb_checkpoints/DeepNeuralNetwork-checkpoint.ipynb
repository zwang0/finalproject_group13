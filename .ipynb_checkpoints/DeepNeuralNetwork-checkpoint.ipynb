{
 "cells": [
  {
   "cell_type": "markdown",
   "id": "8ac1ebf6",
   "metadata": {},
   "source": [
    "# Deep Neural Network\n",
    "Zehua Wang, biostat625 final project"
   ]
  },
  {
   "cell_type": "markdown",
   "id": "01444b7d",
   "metadata": {},
   "source": [
    "## Imports"
   ]
  },
  {
   "cell_type": "code",
   "execution_count": 38,
   "id": "6aad2ee6",
   "metadata": {},
   "outputs": [],
   "source": [
    "import pandas as pd\n",
    "import tensorflow as tf"
   ]
  },
  {
   "cell_type": "markdown",
   "id": "33319c05",
   "metadata": {},
   "source": [
    "## Data Cleaning"
   ]
  },
  {
   "cell_type": "code",
   "execution_count": null,
   "id": "8b1f716e",
   "metadata": {},
   "outputs": [],
   "source": [
    "# Date : year-month-day\n",
    "# Rented Bike count - Count of bikes rented at each hour\n",
    "# Hour - Hour of he day\n",
    "# Temperature-Temperature in Celsius\n",
    "# Humidity - %\n",
    "# Windspeed - m/s\n",
    "# Visibility - 10m\n",
    "# Dew point temperature - Celsius\n",
    "# Solar radiation - MJ/m2\n",
    "# Rainfall - mm\n",
    "# Snowfall - cm\n",
    "# Seasons - Winter, Spring, Summer, Autumn\n",
    "# Holiday - Holiday/No holiday\n",
    "# Functional Day - NoFunc(Non Functional Hours), Fun(Functional hours)"
   ]
  },
  {
   "cell_type": "code",
   "execution_count": 31,
   "id": "55ade699",
   "metadata": {},
   "outputs": [],
   "source": [
    "# load data\n",
    "bike_data = pd.read_csv('data/SeoulBikeData.csv', encoding = 'unicode_escape')\n",
    "# add year, month, day, and days of week\n",
    "bike_data['Date'] = pd.to_datetime(bike_data['Date'])\n",
    "bike_data['Year'] = pd.DatetimeIndex(bike_data['Date']).year\n",
    "bike_data['Month'] = pd.DatetimeIndex(bike_data['Date']).month\n",
    "bike_data['Day'] = pd.DatetimeIndex(bike_data['Date']).day\n",
    "bike_data['DWeek'] = pd.DatetimeIndex(bike_data['Date']).weekday\n",
    "bike_data.columns = (['Date','Rented_Bike_Count', 'Hour', 'Temperature',\n",
    "                      'Humidity', 'Wind_speed', 'Visibility', 'Dew_point_temp',\n",
    "                      'Solar_Rad', 'Rainfall', 'Snowfall', 'Seasons', \n",
    "                      'Holiday', 'Funct_Day','Year', 'Month', 'Day', 'DWeek'])\n",
    "bike_data.head()"
   ]
  },
  {
   "cell_type": "code",
   "execution_count": 36,
   "id": "b4560b2f",
   "metadata": {},
   "outputs": [],
   "source": [
    "## split data into a train and test set\n",
    "bike_data = bike_data.sample(frac = 1, random_state = 625).\\\n",
    "                reset_index(drop = True)\n",
    "data_size = bike_data.shape[0]\n",
    "trainset = bike_data.iloc[:round(data_size*0.8), 1:].reset_index(drop = True)\n",
    "testset = bike_data.iloc[round(data_size*0.8):, 1:].reset_index(drop = True)"
   ]
  },
  {
   "cell_type": "markdown",
   "id": "b6a63c59",
   "metadata": {},
   "source": [
    "## Build Neural Network"
   ]
  },
  {
   "cell_type": "code",
   "execution_count": null,
   "id": "d74a8629",
   "metadata": {},
   "outputs": [],
   "source": []
  }
 ],
 "metadata": {
  "jupytext": {
   "formats": "ipynb,auto:light"
  },
  "kernelspec": {
   "display_name": "Python 3 (ipykernel)",
   "language": "python",
   "name": "python3"
  },
  "language_info": {
   "codemirror_mode": {
    "name": "ipython",
    "version": 3
   },
   "file_extension": ".py",
   "mimetype": "text/x-python",
   "name": "python",
   "nbconvert_exporter": "python",
   "pygments_lexer": "ipython3",
   "version": "3.9.7"
  }
 },
 "nbformat": 4,
 "nbformat_minor": 5
}
